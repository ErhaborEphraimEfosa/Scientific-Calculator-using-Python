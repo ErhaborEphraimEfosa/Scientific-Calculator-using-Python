{
 "cells": [
  {
   "cell_type": "markdown",
   "id": "7a5bcc83",
   "metadata": {},
   "source": [
    "## CALCULATOR"
   ]
  },
  {
   "cell_type": "markdown",
   "id": "f89db096",
   "metadata": {},
   "source": [
    "PROJECT 1:\n",
    "\n",
    "Topic: Python Calculator Script\n",
    "\n",
    "Using all the knowledge of python variables, strings, operators, expressions, conditional statements, containers and for-loops and functions design and create a fully functional calculator that meets the following specifications:\n",
    "\n",
    "·       Receives user input for values and type of operation to be executed\n",
    "\n",
    "·       Checks that user input is valid for type of operation requested\n",
    "\n",
    "·       Executes operation and outputs the result to the screen\n",
    "\n",
    "·       Capable of the following operations:\n",
    "\n",
    "o   Multiplication\n",
    "\n",
    "o   Division\n",
    "\n",
    "o   Subtraction\n",
    "\n",
    "o   Addition\n",
    "\n",
    "o   Remainder"
   ]
  },
  {
   "cell_type": "code",
   "execution_count": 1,
   "id": "b070598c",
   "metadata": {},
   "outputs": [],
   "source": [
    "# Defining Operators\n",
    "\n",
    "m = '*' # Multiplication\n",
    "d = '/' # Division\n",
    "s = '-' # Subtraction\n",
    "a = '+' # Addition\n",
    "r = '%' # Remainder\n"
   ]
  },
  {
   "cell_type": "code",
   "execution_count": 2,
   "id": "b16b3d6a",
   "metadata": {},
   "outputs": [],
   "source": [
    "def calc1(Val1, Val2, operator):\n",
    "    \n",
    "    Res = ''\n",
    "    \n",
    "    if operator == 'm':\n",
    "        Res = Val1 * Val2\n",
    "    elif operator == 'd':\n",
    "        Res = Val1 / Val2\n",
    "    elif operator == 's':\n",
    "        Res = Val1 - Val2\n",
    "    elif operator == 'a':\n",
    "        Res = Val1 + Val2\n",
    "    elif operator == 'r':\n",
    "        Res = Val1 % Val2\n",
    "        \n",
    "    else:\n",
    "        Res = 'No Result'\n",
    "        \n",
    "    print(f'The Result is: {Res}')\n",
    "    \n",
    "    "
   ]
  },
  {
   "cell_type": "code",
   "execution_count": null,
   "id": "fed05a56",
   "metadata": {},
   "outputs": [],
   "source": [
    "Val1 = input(' Please specify the first value ') # Indicating to the user to specify the first value\n",
    "Val2 = input(' Please specify the second value ') # Indicating to the user to specify the second value\n",
    "\n",
    "Opr = input ('specify operator:  m for multiplication, d for division, s for subtraction, a for addition, r for remainder') # Indicating to the user to specify the intended operator\n",
    "\n",
    "calc1(int(Val1), int(Val2), Opr)\n"
   ]
  }
 ],
 "metadata": {
  "kernelspec": {
   "display_name": "Python 3 (ipykernel)",
   "language": "python",
   "name": "python3"
  },
  "language_info": {
   "codemirror_mode": {
    "name": "ipython",
    "version": 3
   },
   "file_extension": ".py",
   "mimetype": "text/x-python",
   "name": "python",
   "nbconvert_exporter": "python",
   "pygments_lexer": "ipython3",
   "version": "3.9.7"
  }
 },
 "nbformat": 4,
 "nbformat_minor": 5
}
